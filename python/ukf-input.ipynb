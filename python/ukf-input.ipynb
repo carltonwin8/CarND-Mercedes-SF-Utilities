{
 "cells": [
  {
   "cell_type": "code",
   "execution_count": 62,
   "metadata": {
    "collapsed": false
   },
   "outputs": [
    {
     "name": "stdout",
     "output_type": "stream",
     "text": [
      "t        1477010443000000\n",
      "lr                      L\n",
      "px                  0.312\n",
      "py                   0.58\n",
      "rd                      0\n",
      "px_gt                 0.6\n",
      "py_gt                 0.6\n",
      "vx_gt                 5.2\n",
      "vy_gt                   0\n",
      "prex                    0\n",
      "prey                    0\n",
      "ex                  0.312\n",
      "ey                   0.58\n",
      "evx                     0\n",
      "evy                     0\n",
      "rx                  0.288\n",
      "ry                   0.02\n",
      "rvx                   5.2\n",
      "rvy                     0\n",
      "Name: 0, dtype: object\n"
     ]
    }
   ],
   "source": [
    "import pandas as pd\n",
    "import numpy as np\n",
    "import math\n",
    "\n",
    "my_cols=['t','lr','px','py','rd','px_gt','py_gt','vx_gt','vy_gt','prex','prey','ex','ey','evx','evy','rx','ry','rvx','rvy']\n",
    "with open('../../CarND-Unscented-Kalman-Filter-Project/data/out1ds1.txt') as f:\n",
    "    o = pd.read_table(f, sep=' ', header=None, skiprows=2, names=my_cols, lineterminator='\\n')\n",
    "    \n",
    "print(o.loc[0])"
   ]
  },
  {
   "cell_type": "code",
   "execution_count": 46,
   "metadata": {
    "collapsed": false
   },
   "outputs": [
    {
     "name": "stdout",
     "output_type": "stream",
     "text": [
      "1477010443000000 50000 50000\n"
     ]
    }
   ],
   "source": [
    "# see if time intervals are all the same\n",
    "t = o['t']\n",
    "max = t[1] - t[0]\n",
    "min = max\n",
    "for i in range(1,len(o['t'].index)):\n",
    "    diff = t[i] - t[i-1]\n",
    "    max = diff if diff > max else max\n",
    "    min = diff if diff > min else min        \n",
    "print(t[0], max, min)"
   ]
  },
  {
   "cell_type": "code",
   "execution_count": 60,
   "metadata": {
    "collapsed": false
   },
   "outputs": [
    {
     "name": "stdout",
     "output_type": "stream",
     "text": [
      "L 0.312 0.580 0.000 0.600 0.600 5.2000 0.0000 5.2000\n",
      "R 0.863 0.534 4.893 0.860 0.600 5.2000 0.0020 5.2000\n",
      "L 1.174 0.481 0.000 1.120 0.600 5.1990 0.0050 5.1990\n",
      "R 0.969 0.398 4.511 1.380 0.601 5.1990 0.0110 5.1990\n"
     ]
    }
   ],
   "source": [
    "# add in a column for calculated data\n",
    "a = np.zeros(len(o.index))\n",
    "o.loc[:,'v'] = pd.Series(a, index=o.index)\n",
    "fmt1 = '{} {:02.3f} {:02.3f} {:02.3f} {:02.3f} {:02.3f} {:02.4f} {:02.4f} {:02.4f}'\n",
    "for i in range(4):\n",
    "    o.loc[i,'v'] = math.sqrt(o.iloc[i,7]**2 + o.iloc[i,8]**2)\n",
    "    str = fmt1.format(o.loc[i,'lr'],o.loc[i,'px'],o.loc[i,'py'],o.loc[i,'rd'],\n",
    "                 o.loc[i,'px_gt'],o.loc[i,'py_gt'],o.loc[i,'vx_gt'],o.loc[i,'vy_gt'], o.loc[i,'v'])\n",
    "    print(str)"
   ]
  },
  {
   "cell_type": "code",
   "execution_count": 58,
   "metadata": {
    "collapsed": false
   },
   "outputs": [
    {
     "name": "stdout",
     "output_type": "stream",
     "text": [
      "273\n",
      "-4.509 -4.349 -4.380  2.358  2.390  2.454\n",
      "-4.577 -4.467 -4.568  1.867  1.981  1.971\n",
      "-4.713 -4.790 -4.762  1.593  1.426  1.490\n",
      "-4.933 -4.950 -4.961  0.954  1.088  1.012\n",
      "-5.146 -5.066 -5.166  0.631  0.530  0.537\n",
      "-5.242 -5.469 -5.378 -0.018  0.306  0.065\n",
      "-5.626 -5.652 -5.597 -0.011 -0.016 -0.402\n",
      "-5.879 -5.669 -5.825 -0.219 -0.649 -0.865\n",
      "-6.198 -5.986 -6.060 -0.518 -0.402 -1.323\n",
      "-6.440 -6.369 -6.304 -0.339 -0.191 -1.776\n"
     ]
    }
   ],
   "source": [
    "# analyze why when y goes negative algorithm fails\n",
    "yneg = 0;\n",
    "y=o['py']\n",
    "for i in range(1,len(o['t'].index)):\n",
    "    if y[i] < 0:\n",
    "        yneg = i\n",
    "        break\n",
    "print(yneg)\n",
    "\n",
    "fmt1 = '{: 02.3f} {: 02.3f} {: 02.3f} {: 02.3f} {: 02.3f} {: 02.3f} {: 02.3f}'\n",
    "show = 10\n",
    "for i in range(yneg - show, yneg + show):\n",
    "    if o.loc[i,'lr'] == 'L':\n",
    "        continue\n",
    "    l = o.loc[i,:]\n",
    "    str = fmt1.format(l['prex'], l['ex'], l['px_gt'], l['prey'], l['ey'], l['py_gt'], l[''])\n",
    "    print(str)"
   ]
  },
  {
   "cell_type": "code",
   "execution_count": null,
   "metadata": {
    "collapsed": true
   },
   "outputs": [],
   "source": []
  }
 ],
 "metadata": {
  "kernelspec": {
   "display_name": "Python 3",
   "language": "python",
   "name": "python3"
  },
  "language_info": {
   "codemirror_mode": {
    "name": "ipython",
    "version": 3
   },
   "file_extension": ".py",
   "mimetype": "text/x-python",
   "name": "python",
   "nbconvert_exporter": "python",
   "pygments_lexer": "ipython3",
   "version": "3.6.0"
  }
 },
 "nbformat": 4,
 "nbformat_minor": 2
}
